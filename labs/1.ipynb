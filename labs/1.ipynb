{
 "cells": [
  {
   "cell_type": "code",
   "execution_count": 120,
   "metadata": {},
   "outputs": [],
   "source": [
    "import numpy as np\n",
    "import matplotlib.pyplot as plt\n",
    "import sympy as sp\n",
    "\n",
    "from IPython.display import display, Math"
   ]
  },
  {
   "cell_type": "code",
   "execution_count": 121,
   "metadata": {},
   "outputs": [],
   "source": [
    "f = lambda x, y: (x + 2 * y) / x\n",
    "\n",
    "n = 600\n",
    "a = 0.1\n",
    "b = 1.5\n",
    "y0 = -0.09\n",
    "\n",
    "x_linspace = np.linspace(a, b, 100)"
   ]
  },
  {
   "cell_type": "code",
   "execution_count": 122,
   "metadata": {},
   "outputs": [],
   "source": [
    "def euler(f, y0, a, b, n):\n",
    "    x = np.linspace(a, b, n + 1)\n",
    "    h = (b - a) / n\n",
    "    y = np.zeros_like(x)\n",
    "    y[0] = y0\n",
    "\n",
    "    for i in range(1, n + 1):\n",
    "\n",
    "        y[i] = y[i - 1] + h * f(\n",
    "            x[i - 1],\n",
    "            y[i - 1],\n",
    "        )\n",
    "\n",
    "    return x, y"
   ]
  },
  {
   "cell_type": "code",
   "execution_count": 123,
   "metadata": {},
   "outputs": [],
   "source": [
    "def euler_modified(f, y0, a, b, n):\n",
    "    x = np.linspace(a, b, n + 1)\n",
    "    h = (b - a) / n\n",
    "    y = np.zeros_like(x)\n",
    "    y[0] = y0\n",
    "\n",
    "    for i in range(1, n + 1):\n",
    "        y_pred = y[i - 1] + h * f(x[i - 1], y[i - 1])\n",
    "\n",
    "        y[i] = y[i - 1] + h / 2 * (f(x[i - 1], y[i - 1]) + f(x[i], y_pred))\n",
    "\n",
    "    return x, y"
   ]
  },
  {
   "cell_type": "code",
   "execution_count": 124,
   "metadata": {},
   "outputs": [],
   "source": [
    "def runge_kutta(\n",
    "    f,\n",
    "    y0,\n",
    "    a,\n",
    "    b,\n",
    "    n,\n",
    "):\n",
    "    x = np.linspace(a, b, n + 1)\n",
    "    h = (b - a) / n\n",
    "    y = np.zeros_like(x)\n",
    "    y[0] = y0\n",
    "\n",
    "    for i in range(1, n + 1):\n",
    "        k1 = f(x[i - 1], y[i - 1])\n",
    "        k2 = f(x[i - 1] + h / 2, y[i - 1] + h / 2 * k1)\n",
    "        k3 = f(x[i - 1] + h / 2, y[i - 1] + h / 2 * k2)\n",
    "        k4 = f(x[i - 1] + h, y[i - 1] + h * k3)\n",
    "        y[i] = y[i - 1] + h / 6 * (k1 + 2 * k2 + 2 * k3 + k4)\n",
    "\n",
    "    return x, y"
   ]
  },
  {
   "cell_type": "code",
   "execution_count": 125,
   "metadata": {},
   "outputs": [],
   "source": [
    "x, C1 = sp.symbols(\"x C1\")\n",
    "y = sp.Function(\"y\")(x)"
   ]
  },
  {
   "cell_type": "code",
   "execution_count": 126,
   "metadata": {},
   "outputs": [
    {
     "name": "stdout",
     "output_type": "stream",
     "text": [
      "Общее решение:\n"
     ]
    },
    {
     "data": {
      "text/latex": [
       "$\\displaystyle y(x) = x \\left(C_{1} x - 1\\right)$"
      ],
      "text/plain": [
       "<IPython.core.display.Math object>"
      ]
     },
     "metadata": {},
     "output_type": "display_data"
    }
   ],
   "source": [
    "diff_eq = sp.Eq(y.diff(x), f(x, y))\n",
    "\n",
    "solution = sp.dsolve(diff_eq)\n",
    "\n",
    "print(\"Общее решение:\")\n",
    "display(Math(f\"y(x) = {sp.latex(solution.rhs)}\"))"
   ]
  },
  {
   "cell_type": "code",
   "execution_count": 127,
   "metadata": {},
   "outputs": [
    {
     "data": {
      "text/latex": [
       "$\\displaystyle \\frac{d}{d x} y{\\left(x \\right)} = \\frac{x + 2 y{\\left(x \\right)}}{x}$"
      ],
      "text/plain": [
       "Eq(Derivative(y(x), x), (x + 2*y(x))/x)"
      ]
     },
     "execution_count": 127,
     "metadata": {},
     "output_type": "execute_result"
    }
   ],
   "source": [
    "diff_eq"
   ]
  },
  {
   "cell_type": "code",
   "execution_count": 128,
   "metadata": {},
   "outputs": [
    {
     "name": "stdout",
     "output_type": "stream",
     "text": [
      "Частное решение:\n"
     ]
    },
    {
     "data": {
      "text/latex": [
       "$\\displaystyle y(x) = x \\left(x - 1\\right)$"
      ],
      "text/plain": [
       "<IPython.core.display.Math object>"
      ]
     },
     "metadata": {},
     "output_type": "display_data"
    }
   ],
   "source": [
    "particular = solution.subs(C1, 1)\n",
    "\n",
    "exact_solution = sp.lambdify(x, particular.rhs, \"numpy\")\n",
    "\n",
    "print(\"Частное решение:\")\n",
    "display(Math(f\"y(x) = {sp.latex(particular.rhs)}\"))"
   ]
  },
  {
   "cell_type": "code",
   "execution_count": 129,
   "metadata": {},
   "outputs": [],
   "source": [
    "exact_solution(b)\n",
    "euler_solution = euler(f, y0, a, b, n)\n",
    "euler_modified_solution = euler_modified(f, y0, a, b, n)\n",
    "runge_kutta_solution = runge_kutta(f, y0, a, b, n)"
   ]
  },
  {
   "cell_type": "code",
   "execution_count": 130,
   "metadata": {},
   "outputs": [
    {
     "name": "stdout",
     "output_type": "stream",
     "text": [
      "\n",
      "Точное решение в точке b: 0.75\n",
      "Метод Эйлера: 0.7021172638436505\n",
      "Модифицированный метод Эйлера: 0.7494044203236966\n",
      "Метод Рунге-Кутта: 0.749999959479754\n",
      "\n",
      "Ошибка Эйлера: 0.047882736156349526\n",
      "Ошибка модифицированного метода Эйлера: 0.0005955796763034149\n",
      "Ошибка метода Рунге-Кутта: 4.0520246047393016e-08\n",
      "\n"
     ]
    }
   ],
   "source": [
    "print(\n",
    "    f\"\"\"\n",
    "Точное решение в точке b: {exact_solution(b)}\n",
    "Метод Эйлера: {euler_solution[1][-1]}\n",
    "Модифицированный метод Эйлера: {euler_modified_solution[1][-1]}\n",
    "Метод Рунге-Кутта: {runge_kutta_solution[1][-1]}\n",
    "\n",
    "Ошибка Эйлера: {abs(exact_solution(b) - euler_solution[1][-1])}\n",
    "Ошибка модифицированного метода Эйлера: {abs(exact_solution(b) - euler_modified_solution[1][-1])}\n",
    "Ошибка метода Рунге-Кутта: {abs(exact_solution(b) - runge_kutta_solution[1][-1])}\n",
    "\"\"\"\n",
    ")"
   ]
  },
  {
   "cell_type": "code",
   "execution_count": 131,
   "metadata": {},
   "outputs": [
    {
     "data": {
      "text/plain": [
       "<matplotlib.legend.Legend at 0x1101f87d0>"
      ]
     },
     "execution_count": 131,
     "metadata": {},
     "output_type": "execute_result"
    },
    {
     "data": {
      "image/png": "[encoded data removed]",
      "text/plain": [
       "<Figure size 640x480 with 1 Axes>"
      ]
     },
     "metadata": {},
     "output_type": "display_data"
    }
   ],
   "source": [
    "plt.plot(\n",
    "    x_linspace,\n",
    "    exact_solution(x_linspace),\n",
    "    label=\"exact\",\n",
    "    linestyle=\"--\",\n",
    ")\n",
    "\n",
    "plt.plot(\n",
    "    *euler(\n",
    "        f,\n",
    "        y0=y0,\n",
    "        a=a,\n",
    "        b=b,\n",
    "        n=n,\n",
    "    ),\n",
    "    label=f\"euler (n={n})\",\n",
    ")\n",
    "\n",
    "plt.plot(\n",
    "    *euler_modified(\n",
    "        f,\n",
    "        y0=y0,\n",
    "        a=a,\n",
    "        b=b,\n",
    "        n=n,\n",
    "    ),\n",
    "    label=f\"modified euler (n={n})\",\n",
    ")\n",
    "\n",
    "plt.plot(\n",
    "    *runge_kutta(\n",
    "        f,\n",
    "        y0=y0,\n",
    "        a=a,\n",
    "        b=b,\n",
    "        n=n,\n",
    "    ),\n",
    "    label=f\"runge kutta (n={n})\",\n",
    ")\n",
    "\n",
    "plt.legend()"
   ]
  }
 ],
 "metadata": {
  "kernelspec": {
   "display_name": ".venv",
   "language": "python",
   "name": "python3"
  },
  "language_info": {
   "codemirror_mode": {
    "name": "ipython",
    "version": 3
   },
   "file_extension": ".py",
   "mimetype": "text/x-python",
   "name": "python",
   "nbconvert_exporter": "python",
   "pygments_lexer": "ipython3",
   "version": "3.13.1"
  }
 },
 "nbformat": 4,
 "nbformat_minor": 2
}
